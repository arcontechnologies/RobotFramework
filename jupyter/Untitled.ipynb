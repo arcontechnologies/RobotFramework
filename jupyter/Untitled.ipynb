{
 "cells": [
  {
   "cell_type": "code",
   "execution_count": 1,
   "id": "aea10725-e682-437d-86f1-68d3f9e6f915",
   "metadata": {},
   "outputs": [],
   "source": [
    "from RPA.Browser.Selenium import Selenium\n",
    "\n",
    "lib = Selenium()\n",
    "\n",
    "username = \"aidemobot@gmail.com\"\n",
    "password = \"Dasilva2010\"\n",
    "\n",
    "lib.open_available_browser(\"https://portal.sangoma.com/\")\n",
    "lib.input_text(\"id:email_address\", username)\n",
    "lib.input_text(\"id:password\", password)\n",
    "#lib.click_button(\"<button type=\\\"submit\\\" class=\\\"btn btn-primary btn-block\\\">Sign In</button>\")\n",
    "lib.click_button(\"css=button[class=\\\"btn btn-primary btn-block\\\"]\")"
   ]
  },
  {
   "cell_type": "code",
   "execution_count": 40,
   "id": "4cf40e21-e9b5-4516-96a8-16eab47bcb76",
   "metadata": {},
   "outputs": [
    {
     "name": "stdout",
     "output_type": "stream",
     "text": [
      "{}\n"
     ]
    },
    {
     "ename": "AssertionError",
     "evalue": "",
     "output_type": "error",
     "traceback": [
      "\u001b[1;31m---------------------------------------------------------------------------\u001b[0m",
      "\u001b[1;31mAssertionError\u001b[0m                            Traceback (most recent call last)",
      "\u001b[1;32m~\\AppData\\Local\\Temp/ipykernel_21020/2558872535.py\u001b[0m in \u001b[0;36m<module>\u001b[1;34m\u001b[0m\n\u001b[0;32m     20\u001b[0m \u001b[0mprint\u001b[0m\u001b[1;33m(\u001b[0m\u001b[0mprocess_variables\u001b[0m\u001b[1;33m)\u001b[0m\u001b[1;33m\u001b[0m\u001b[1;33m\u001b[0m\u001b[0m\n\u001b[0;32m     21\u001b[0m \u001b[1;33m\u001b[0m\u001b[0m\n\u001b[1;32m---> 22\u001b[1;33m \u001b[1;32massert\u001b[0m \u001b[0mprocess_variables\u001b[0m\u001b[1;33m.\u001b[0m\u001b[0mget\u001b[0m\u001b[1;33m(\u001b[0m\u001b[1;34m'first one'\u001b[0m\u001b[1;33m)\u001b[0m \u001b[1;33m==\u001b[0m \u001b[1;36m42\u001b[0m\u001b[1;33m\u001b[0m\u001b[1;33m\u001b[0m\u001b[0m\n\u001b[0m\u001b[0;32m     23\u001b[0m \u001b[1;33m\u001b[0m\u001b[0m\n\u001b[0;32m     24\u001b[0m \u001b[0mclient\u001b[0m\u001b[1;33m.\u001b[0m\u001b[0mcomplete\u001b[0m\u001b[1;33m(\u001b[0m\u001b[1;33m)\u001b[0m\u001b[1;33m\u001b[0m\u001b[1;33m\u001b[0m\u001b[0m\n",
      "\u001b[1;31mAssertionError\u001b[0m: "
     ]
    }
   ],
   "source": [
    "from CamundaLibrary import CamundaLibrary\n",
    "\n",
    "configuration = {\n",
    "    'host' : 'http://localhost:7000',\n",
    "    'username': 'demo',\n",
    "    'password': 'demo'\n",
    "}\n",
    "\n",
    "\n",
    "from CamundaLibrary import CamundaLibrary\n",
    "\n",
    "client = CamundaLibrary(\"http://localhost:7000\")\n",
    "\n",
    "client.deploy('another_example.bpmn')\n",
    "\n",
    "client.start_process('Process_1o1dbbb', variables={'first one': 42})\n",
    "\n",
    "process_variables = client.fetch_workload('Process_1o1dbbb')\n",
    "\n",
    "print(process_variables)\n",
    "\n",
    "#assert process_variables.get('first one') == 42\n",
    "\n",
    "client.complete()\n",
    "\n",
    "\n",
    "#CamundaLibrary.set_camunda_configuration(configuration)\n",
    "#CamundaLibrary.get_version()\n",
    "#url = CamundaLibrary.get_camunda_url()\n"
   ]
  },
  {
   "cell_type": "code",
   "execution_count": 39,
   "id": "b90dd496-524d-4e0e-8ed9-4057d9bdc5ec",
   "metadata": {},
   "outputs": [
    {
     "data": {
      "text/plain": [
       "{'version': '7.16.0'}"
      ]
     },
     "execution_count": 39,
     "metadata": {},
     "output_type": "execute_result"
    }
   ],
   "source": [
    "client.get_version()"
   ]
  },
  {
   "cell_type": "code",
   "execution_count": null,
   "id": "c7bafb82-6482-4722-b000-71c7c5ef7cd7",
   "metadata": {},
   "outputs": [],
   "source": []
  }
 ],
 "metadata": {
  "kernelspec": {
   "display_name": "Python 3 (ipykernel)",
   "language": "python",
   "name": "python3"
  },
  "language_info": {
   "codemirror_mode": {
    "name": "ipython",
    "version": 3
   },
   "file_extension": ".py",
   "mimetype": "text/x-python",
   "name": "python",
   "nbconvert_exporter": "python",
   "pygments_lexer": "ipython3",
   "version": "3.9.7"
  }
 },
 "nbformat": 4,
 "nbformat_minor": 5
}
